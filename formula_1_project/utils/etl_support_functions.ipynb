{
 "cells": [
  {
   "cell_type": "code",
   "execution_count": 0,
   "metadata": {
    "application/vnd.databricks.v1+cell": {
     "cellMetadata": {
      "byteLimit": 2048000,
      "rowLimit": 10000
     },
     "inputWidgets": {},
     "nuid": "32df8452-e65a-4a4b-b977-9faf0f28078b",
     "showTitle": false,
     "tableResultSettingsMap": {},
     "title": ""
    }
   },
   "outputs": [],
   "source": [
    "from delta.tables import DeltaTable\n",
    "\n",
    "def upsert_into_delta_table(upd_df, table_path,merge_condition,partition_col = None):\n",
    "    spark.conf.set(\"spark.databricks.optimizer.dynamicPartitionPruning\",\"true\")\n",
    "\n",
    "    if spark.catalog.tableExists(table_path):\n",
    "\n",
    "        resultsDeltaTable = DeltaTable.forName(spark, table_path)\n",
    "\n",
    "        resultsDeltaTable.alias('tgt') \\\n",
    "        .merge(\n",
    "                upd_df.alias('upd'), \n",
    "                merge_condition) \\\n",
    "        .whenMatchedUpdateAll() \\\n",
    "        .whenNotMatchedInsertAll() \\\n",
    "        .execute()\n",
    "    else:\n",
    "        if partition_col:\n",
    "            writer = upd_df.write \\\n",
    "                .format(\"delta\") \\\n",
    "                .mode(\"overwrite\") \\\n",
    "                .partitionBy(partition_col)\n",
    "        else:\n",
    "            writer = upd_df.write \\\n",
    "                .format(\"delta\") \\\n",
    "                .mode(\"overwrite\")\n",
    "\n",
    "        writer.saveAsTable(table_path)"
   ]
  },
  {
   "cell_type": "code",
   "execution_count": 0,
   "metadata": {
    "application/vnd.databricks.v1+cell": {
     "cellMetadata": {
      "byteLimit": 2048000,
      "rowLimit": 10000
     },
     "inputWidgets": {},
     "nuid": "a3d114f8-b7c7-46bd-a281-3e8e3212c49e",
     "showTitle": false,
     "tableResultSettingsMap": {},
     "title": ""
    }
   },
   "outputs": [],
   "source": [
    "def push_partition_col_to_end(df, partition_col):\n",
    "    cols = df.schema.names\n",
    "    cols.remove(partition_col)\n",
    "    cols.append(partition_col)\n",
    "    return df.select(cols)"
   ]
  },
  {
   "cell_type": "code",
   "execution_count": 0,
   "metadata": {
    "application/vnd.databricks.v1+cell": {
     "cellMetadata": {
      "byteLimit": 2048000,
      "rowLimit": 10000
     },
     "inputWidgets": {},
     "nuid": "f407b945-25be-4d1d-b95e-a7b8742a8f8b",
     "showTitle": false,
     "tableResultSettingsMap": {},
     "title": ""
    }
   },
   "outputs": [],
   "source": []
  }
 ],
 "metadata": {
  "application/vnd.databricks.v1+notebook": {
   "computePreferences": null,
   "dashboards": [],
   "environmentMetadata": {
    "base_environment": "",
    "environment_version": "2"
   },
   "inputWidgetPreferences": null,
   "language": "python",
   "notebookMetadata": {
    "pythonIndentUnit": 4
   },
   "notebookName": "etl_support_functions",
   "widgets": {}
  },
  "language_info": {
   "name": "python"
  }
 },
 "nbformat": 4,
 "nbformat_minor": 0
}
